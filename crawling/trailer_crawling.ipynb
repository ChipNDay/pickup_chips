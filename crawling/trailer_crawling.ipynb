{
 "cells": [
  {
   "cell_type": "code",
   "execution_count": 1,
   "metadata": {
    "collapsed": true,
    "pycharm": {
     "name": "#%%\n"
    }
   },
   "outputs": [],
   "source": [
    "import json\n",
    "\n",
    "from selenium import webdriver\n",
    "from selenium.webdriver.common.keys import Keys\n",
    "from selenium.webdriver import ActionChains\n",
    "from bs4 import BeautifulSoup\n",
    "import time\n",
    "import pandas as pd\n",
    "import warnings\n",
    "import pymysql.cursors\n",
    "from sqlalchemy import create_engine\n",
    "import re\n",
    "import requests\n",
    "import random\n",
    "warnings.filterwarnings('ignore')"
   ]
  },
  {
   "cell_type": "code",
   "execution_count": 4,
   "outputs": [],
   "source": [
    "import warnings\n",
    "warnings.filterwarnings('ignore')\n",
    "import pymysql\n",
    "user = \"movienight\"\n",
    "password = \"09211009\"\n",
    "host = \"132.226.150.234\"\n",
    "port = 3306\n",
    "db = \"chipnday_db\"\n",
    "encoding = 'utf8'\n",
    "db = pymysql.connect(host=host, port=port, user=user, passwd=password, db=db, charset=encoding, autocommit=True,\n",
    "                             cursorclass=pymysql.cursors.DictCursor)\n",
    "cursor = db.cursor()"
   ],
   "metadata": {
    "collapsed": false,
    "pycharm": {
     "name": "#%%\n"
    }
   }
  },
  {
   "cell_type": "code",
   "execution_count": null,
   "outputs": [],
   "source": [],
   "metadata": {
    "collapsed": false,
    "pycharm": {
     "name": "#%%\n"
    }
   }
  },
  {
   "cell_type": "code",
   "execution_count": null,
   "outputs": [],
   "source": [
    "cursor = db.cursor()\n",
    "sql = \"SELECT * FROM MovieInfo WHERE Trailer IS NULL ;\"\n",
    "cursor.execute(sql)\n",
    "res = cursor.fetchall()\n",
    "df = pd.DataFrame(res)"
   ],
   "metadata": {
    "collapsed": false,
    "pycharm": {
     "name": "#%%\n"
    }
   }
  },
  {
   "cell_type": "code",
   "execution_count": 22,
   "outputs": [],
   "source": [
    "non_trailer_list =  df['TitleEn'].tolist()"
   ],
   "metadata": {
    "collapsed": false,
    "pycharm": {
     "name": "#%%\n"
    }
   }
  },
  {
   "cell_type": "code",
   "execution_count": 25,
   "outputs": [
    {
     "data": {
      "text/plain": "407"
     },
     "execution_count": 25,
     "metadata": {},
     "output_type": "execute_result"
    }
   ],
   "source": [
    "len(non_trailer_list)"
   ],
   "metadata": {
    "collapsed": false,
    "pycharm": {
     "name": "#%%\n"
    }
   }
  },
  {
   "cell_type": "code",
   "execution_count": 47,
   "outputs": [],
   "source": [
    "sql = f'SELECT * FROM MovieInfo;'\n",
    "cursor.execute(sql)\n",
    "res = cursor.fetchall()\n",
    "db_df = pd.DataFrame(res)\n",
    "t3 = db_df.to_dict(orient='index')"
   ],
   "metadata": {
    "collapsed": false,
    "pycharm": {
     "name": "#%%\n"
    }
   }
  },
  {
   "cell_type": "code",
   "execution_count": 48,
   "outputs": [],
   "source": [
    "for i in range(len(t3)):\n",
    "    t3[i]['Casts'] = eval(t3[i]['Casts'])\n",
    "    t3[i]['OttLinks'] = eval(t3[i]['OttLinks'])\n",
    "    if t3[i]['Director'] == 'null':\n",
    "        t3[i]['Director'] = None\n",
    "    else:\n",
    "        t3[i]['Director'] = eval(t3[i]['Director'])"
   ],
   "metadata": {
    "collapsed": false,
    "pycharm": {
     "name": "#%%\n"
    }
   }
  },
  {
   "cell_type": "code",
   "execution_count": 49,
   "outputs": [
    {
     "data": {
      "text/plain": "dict"
     },
     "execution_count": 49,
     "metadata": {},
     "output_type": "execute_result"
    }
   ],
   "source": [
    "type(t3[694]['Director'])\n",
    "type(t3[694]['OttLinks'][0])\n",
    "#type(t3[694]['Casts'][0])"
   ],
   "metadata": {
    "collapsed": false,
    "pycharm": {
     "name": "#%%\n"
    }
   }
  },
  {
   "cell_type": "code",
   "execution_count": 157,
   "outputs": [
    {
     "data": {
      "text/plain": "          TitleKr           TitleEn  \\\n0      밴드 오브 브라더스  BAND OF BROTHERS   \n1            체르노빌         Chernobyl   \n2  하우스 오브 카드 시즌 2  House of Cards 2   \n\n                                              Poster Genre  Year    Kino  \\\n0  https://nujhrcqkiwag1408085.cdn.ntruss.com/sta...   드라마  2001  100.00   \n1  https://nujhrcqkiwag1408085.cdn.ntruss.com/sta...   드라마  2019   97.58   \n2  https://nujhrcqkiwag1408085.cdn.ntruss.com/sta...   드라마  2014  100.00   \n\n   Tomato  Imdb  Star                                           OttLinks  \\\n0    97.0   9.4   4.6  \"[{'Ott': '웨이브', 'OttLink': 'https://click.kin...   \n1    95.0   9.4   4.5  \"[{'Ott': '웨이브', 'OttLink': 'https://click.kin...   \n2    83.0   8.7   4.5  \"[{'Ott': '넷플릭스', 'OttLink': 'https://click.ki...   \n\n                                                Info  \\\n0  제2차 세계대전, 프랑스 노르망디에 상륙한 연합군 제101사단 506연대 2대대 '...   \n1  1986년 4월 26일, 소련 체르노빌에서 원자력 발전소 폭발 사고가 발생한다. 정...   \n2  미국 워싱턴 정계에서 벌어지는 권력, 야망, 사랑, 비리 등 백악관 스캔들을 다룬 ...   \n\n                                            Director  \\\n0  {\"Director\": \"토니 토\", \"ProfilImg\": \"https://nuj...   \n1  {\"Director\": \"요한 렌크\", \"ProfilImg\": \"https://nu...   \n2  {\"Director\": \"로빈 라이트\", \"ProfilImg\": \"https://n...   \n\n                                               Casts  \\\n0  \"[{'Actor': '리차드 론크레인', 'ProfilImg': 'https://...   \n1  \"[{'Actor': '제시 버클리', 'ProfilImg': 'https://nu...   \n2  \"[{'Actor': '제임스 폴리', 'ProfilImg': 'https://nu...   \n\n                                             Trailer  \\\n0  https://www.youtube.com/embed/aH06LWZs-Ys?enab...   \n1  https://www.youtube.com/embed/s9APLXM9Ei8?enab...   \n2                                               None   \n\n                                         TrailerKey  KinoId  \n0  aH06LWZs-Ys?enablejsapi=1&origin=https%3A%2F%2Fm   79900  \n1  s9APLXM9Ei8?enablejsapi=1&origin=https%3A%2F%2Fm   79906  \n2                                       1nH5dwSPamg   80135  ",
      "text/html": "<div>\n<style scoped>\n    .dataframe tbody tr th:only-of-type {\n        vertical-align: middle;\n    }\n\n    .dataframe tbody tr th {\n        vertical-align: top;\n    }\n\n    .dataframe thead th {\n        text-align: right;\n    }\n</style>\n<table border=\"1\" class=\"dataframe\">\n  <thead>\n    <tr style=\"text-align: right;\">\n      <th></th>\n      <th>TitleKr</th>\n      <th>TitleEn</th>\n      <th>Poster</th>\n      <th>Genre</th>\n      <th>Year</th>\n      <th>Kino</th>\n      <th>Tomato</th>\n      <th>Imdb</th>\n      <th>Star</th>\n      <th>OttLinks</th>\n      <th>Info</th>\n      <th>Director</th>\n      <th>Casts</th>\n      <th>Trailer</th>\n      <th>TrailerKey</th>\n      <th>KinoId</th>\n    </tr>\n  </thead>\n  <tbody>\n    <tr>\n      <th>0</th>\n      <td>밴드 오브 브라더스</td>\n      <td>BAND OF BROTHERS</td>\n      <td>https://nujhrcqkiwag1408085.cdn.ntruss.com/sta...</td>\n      <td>드라마</td>\n      <td>2001</td>\n      <td>100.00</td>\n      <td>97.0</td>\n      <td>9.4</td>\n      <td>4.6</td>\n      <td>\"[{'Ott': '웨이브', 'OttLink': 'https://click.kin...</td>\n      <td>제2차 세계대전, 프랑스 노르망디에 상륙한 연합군 제101사단 506연대 2대대 '...</td>\n      <td>{\"Director\": \"토니 토\", \"ProfilImg\": \"https://nuj...</td>\n      <td>\"[{'Actor': '리차드 론크레인', 'ProfilImg': 'https://...</td>\n      <td>https://www.youtube.com/embed/aH06LWZs-Ys?enab...</td>\n      <td>aH06LWZs-Ys?enablejsapi=1&amp;origin=https%3A%2F%2Fm</td>\n      <td>79900</td>\n    </tr>\n    <tr>\n      <th>1</th>\n      <td>체르노빌</td>\n      <td>Chernobyl</td>\n      <td>https://nujhrcqkiwag1408085.cdn.ntruss.com/sta...</td>\n      <td>드라마</td>\n      <td>2019</td>\n      <td>97.58</td>\n      <td>95.0</td>\n      <td>9.4</td>\n      <td>4.5</td>\n      <td>\"[{'Ott': '웨이브', 'OttLink': 'https://click.kin...</td>\n      <td>1986년 4월 26일, 소련 체르노빌에서 원자력 발전소 폭발 사고가 발생한다. 정...</td>\n      <td>{\"Director\": \"요한 렌크\", \"ProfilImg\": \"https://nu...</td>\n      <td>\"[{'Actor': '제시 버클리', 'ProfilImg': 'https://nu...</td>\n      <td>https://www.youtube.com/embed/s9APLXM9Ei8?enab...</td>\n      <td>s9APLXM9Ei8?enablejsapi=1&amp;origin=https%3A%2F%2Fm</td>\n      <td>79906</td>\n    </tr>\n    <tr>\n      <th>2</th>\n      <td>하우스 오브 카드 시즌 2</td>\n      <td>House of Cards 2</td>\n      <td>https://nujhrcqkiwag1408085.cdn.ntruss.com/sta...</td>\n      <td>드라마</td>\n      <td>2014</td>\n      <td>100.00</td>\n      <td>83.0</td>\n      <td>8.7</td>\n      <td>4.5</td>\n      <td>\"[{'Ott': '넷플릭스', 'OttLink': 'https://click.ki...</td>\n      <td>미국 워싱턴 정계에서 벌어지는 권력, 야망, 사랑, 비리 등 백악관 스캔들을 다룬 ...</td>\n      <td>{\"Director\": \"로빈 라이트\", \"ProfilImg\": \"https://n...</td>\n      <td>\"[{'Actor': '제임스 폴리', 'ProfilImg': 'https://nu...</td>\n      <td>None</td>\n      <td>1nH5dwSPamg</td>\n      <td>80135</td>\n    </tr>\n  </tbody>\n</table>\n</div>"
     },
     "execution_count": 157,
     "metadata": {},
     "output_type": "execute_result"
    }
   ],
   "source": [
    "for i in range(len(db_df['OttLinks'])):\n",
    "    json_1 = json.dumps(db_df['OttLinks'][i],ensure_ascii=False)\n",
    "    db_df['OttLinks'][i] = json_1\n",
    "for j in range(len(db_df['Casts'])):\n",
    "    json_2 = json.dumps(db_df['Casts'][j],ensure_ascii=False)\n",
    "    db_df['Casts'][j] = json_2\n",
    "\n",
    "\n",
    "db_df.head(3)"
   ],
   "metadata": {
    "collapsed": false,
    "pycharm": {
     "name": "#%%\n"
    }
   }
  },
  {
   "cell_type": "code",
   "execution_count": 164,
   "outputs": [
    {
     "data": {
      "text/plain": "'\"[{\\'Actor\\': \\'리차드 론크레인\\', \\'ProfilImg\\': \\'https://nujhrcqkiwag1408085.cdn.ntruss.com/static/upload/director_profile_images/director_62471_1522040180.jpg\\'}, {\\'Actor\\': \\'미카엘 살로먼\\', \\'ProfilImg\\': \\'https://nujhrcqkiwag1408085.cdn.ntruss.com/static/upload/director_profile_images/director_60872_1547017289.jpg\\'}, {\\'Actor\\': \\'데미안 루이스 \\', \\'ProfilImg\\': \\'https://nujhrcqkiwag1408085.cdn.ntruss.com/static/upload/actor_profile_images/actor_8318_1522139787.jpg\\'}, {\\'Actor\\': \\'론 리빙스턴\\', \\'ProfilImg\\': \\'https://nujhrcqkiwag1408085.cdn.ntruss.com/static/upload/actor_profile_images/actor_8245_1522072204.jpg\\'}, {\\'Actor\\': \\'매튜 세틀\\', \\'ProfilImg\\': \\'https://nujhrcqkiwag1408085.cdn.ntruss.com/static/upload/actor_profile_images/actor_7679_1521179528.jpg\\'}, {\\'Actor\\': \\'커크 에이스베도\\', \\'ProfilImg\\': \\'https://nujhrcqkiwag1408085.cdn.ntruss.com/static/upload/actor_profile_images/actor_14239_1534491445.jpg\\'}, {\\'Actor\\': \\'에이온 바일리\\', \\'ProfilImg\\': \\'https://nujhrcqkiwag1408085.cdn.ntruss.com/static/upload/actor_profile_images/actor_9441_1584605772.jpg\\'}]\"'"
     },
     "execution_count": 164,
     "metadata": {},
     "output_type": "execute_result"
    }
   ],
   "source": [
    "db_df['Casts'][0]"
   ],
   "metadata": {
    "collapsed": false,
    "pycharm": {
     "name": "#%%\n"
    }
   }
  },
  {
   "cell_type": "code",
   "execution_count": 160,
   "outputs": [
    {
     "data": {
      "text/plain": "'{\"Director\": \"토니 토\", \"ProfilImg\": \"https://nujhrcqkiwag1408085.cdn.ntruss.com/static/upload/director_profile_images/director_78942_1584605933.png\"}'"
     },
     "execution_count": 160,
     "metadata": {},
     "output_type": "execute_result"
    }
   ],
   "source": [
    "db_df['Director'][0]"
   ],
   "metadata": {
    "collapsed": false,
    "pycharm": {
     "name": "#%%\n"
    }
   }
  },
  {
   "cell_type": "code",
   "execution_count": 161,
   "outputs": [
    {
     "data": {
      "text/plain": "'\"[{\\'Ott\\': \\'웨이브\\', \\'OttLink\\': \\'https://click.kinolights.com/redirect?url=https%3A%2F%2Fwww.wavve.com%2Fplayer%2Fvod%3Fprogramid%3DF3501_F35000000028&cx=eyJVc2VyQWdlbnQiOiJNb3ppbGxhLzUuMCAoTWFjaW50b3NoOyBJbnRlbCBNYWMgT1MgWCAxMF8xNV83KSBBcHBsZVdlYktpdC81MzcuMzYgKEtIVE1MLCBsaWtlIEdlY2tvKSBDaHJvbWUvMTAxLjAuNDk1MS42NCBTYWZhcmkvNTM3LjM2IiwiSW5kZXhTY29yZSI6MTAwLCJTdGFyUmF0aW5nIjo0LjYsIlZPREtleSI6NDk1MjQzLCJQcm92aWRlcktleSI6OCwiUHJvdmlkZXIiOiJ3YXZ2ZSIsIlByaWNlIjoi7KCV7JWh7KCcIiwiVHlwZSI6InN0cmVhbWluZyIsIlVzZXIiOm51bGwsIk1vdmllIjo3OTkwMCwiVGl0bGUiOiLrsLTrk5wg7Jik67iMIOu4jOudvOuNlOyKpCJ9&klid=debd97db-5e04-4fb5-8cad-cbca1dbc446d&source=kinolights&medium=organic&campaign=kinolights&content=title_provider\\'}]\"'"
     },
     "execution_count": 161,
     "metadata": {},
     "output_type": "execute_result"
    }
   ],
   "source": [
    "db_df['OttLinks'][0]"
   ],
   "metadata": {
    "collapsed": false,
    "pycharm": {
     "name": "#%%\n"
    }
   }
  },
  {
   "cell_type": "code",
   "execution_count": null,
   "outputs": [],
   "source": [
    "for k in range(len(db_df['Director'])):\n",
    "    json_3 = json.dumps(db_df['Director'][k],ensure_ascii=False)\n",
    "    db_df['Director'][k] = json_3\n",
    "db_df['Director'][0]"
   ],
   "metadata": {
    "collapsed": false,
    "pycharm": {
     "name": "#%%\n"
    }
   }
  },
  {
   "cell_type": "code",
   "execution_count": 187,
   "outputs": [],
   "source": [
    "json__ = eval(db_df['Director'][0])"
   ],
   "metadata": {
    "collapsed": false,
    "pycharm": {
     "name": "#%%\n"
    }
   }
  },
  {
   "cell_type": "code",
   "execution_count": 168,
   "outputs": [
    {
     "name": "stdout",
     "output_type": "stream",
     "text": [
      "MovieInfo :: 695 insert success\n"
     ]
    }
   ],
   "source": [
    "from crawling.db import db_insert\n",
    "\n",
    "db_insert(db_df,'MovieInfo')"
   ],
   "metadata": {
    "collapsed": false,
    "pycharm": {
     "name": "#%%\n"
    }
   }
  },
  {
   "cell_type": "code",
   "execution_count": 188,
   "outputs": [
    {
     "ename": "OperationalError",
     "evalue": "(2013, 'Lost connection to MySQL server during query ([Errno 54] Connection reset by peer)')",
     "output_type": "error",
     "traceback": [
      "\u001B[0;31m---------------------------------------------------------------------------\u001B[0m",
      "\u001B[0;31mConnectionResetError\u001B[0m                      Traceback (most recent call last)",
      "File \u001B[0;32m/opt/homebrew/lib/python3.9/site-packages/pymysql/connections.py:732\u001B[0m, in \u001B[0;36mConnection._read_bytes\u001B[0;34m(self, num_bytes)\u001B[0m\n\u001B[1;32m    731\u001B[0m \u001B[38;5;28;01mtry\u001B[39;00m:\n\u001B[0;32m--> 732\u001B[0m     data \u001B[38;5;241m=\u001B[39m \u001B[38;5;28;43mself\u001B[39;49m\u001B[38;5;241;43m.\u001B[39;49m\u001B[43m_rfile\u001B[49m\u001B[38;5;241;43m.\u001B[39;49m\u001B[43mread\u001B[49m\u001B[43m(\u001B[49m\u001B[43mnum_bytes\u001B[49m\u001B[43m)\u001B[49m\n\u001B[1;32m    733\u001B[0m     \u001B[38;5;28;01mbreak\u001B[39;00m\n",
      "File \u001B[0;32m/opt/homebrew/Cellar/python@3.9/3.9.12/Frameworks/Python.framework/Versions/3.9/lib/python3.9/socket.py:704\u001B[0m, in \u001B[0;36mSocketIO.readinto\u001B[0;34m(self, b)\u001B[0m\n\u001B[1;32m    703\u001B[0m \u001B[38;5;28;01mtry\u001B[39;00m:\n\u001B[0;32m--> 704\u001B[0m     \u001B[38;5;28;01mreturn\u001B[39;00m \u001B[38;5;28;43mself\u001B[39;49m\u001B[38;5;241;43m.\u001B[39;49m\u001B[43m_sock\u001B[49m\u001B[38;5;241;43m.\u001B[39;49m\u001B[43mrecv_into\u001B[49m\u001B[43m(\u001B[49m\u001B[43mb\u001B[49m\u001B[43m)\u001B[49m\n\u001B[1;32m    705\u001B[0m \u001B[38;5;28;01mexcept\u001B[39;00m timeout:\n",
      "\u001B[0;31mConnectionResetError\u001B[0m: [Errno 54] Connection reset by peer",
      "\nDuring handling of the above exception, another exception occurred:\n",
      "\u001B[0;31mOperationalError\u001B[0m                          Traceback (most recent call last)",
      "Input \u001B[0;32mIn [188]\u001B[0m, in \u001B[0;36m<module>\u001B[0;34m\u001B[0m\n\u001B[1;32m      1\u001B[0m \u001B[38;5;28mlen\u001B[39m(non_trailer_list)\n\u001B[1;32m      2\u001B[0m sql \u001B[38;5;241m=\u001B[39m \u001B[38;5;124mf\u001B[39m\u001B[38;5;124m'\u001B[39m\u001B[38;5;124mSELECT * FROM MovieInfo;\u001B[39m\u001B[38;5;124m'\u001B[39m\n\u001B[0;32m----> 3\u001B[0m \u001B[43mcursor\u001B[49m\u001B[38;5;241;43m.\u001B[39;49m\u001B[43mexecute\u001B[49m\u001B[43m(\u001B[49m\u001B[43msql\u001B[49m\u001B[43m)\u001B[49m\n\u001B[1;32m      4\u001B[0m res \u001B[38;5;241m=\u001B[39m cursor\u001B[38;5;241m.\u001B[39mfetchall()\n\u001B[1;32m      5\u001B[0m changed_df \u001B[38;5;241m=\u001B[39m pd\u001B[38;5;241m.\u001B[39mDataFrame(res)\n",
      "File \u001B[0;32m/opt/homebrew/lib/python3.9/site-packages/pymysql/cursors.py:148\u001B[0m, in \u001B[0;36mCursor.execute\u001B[0;34m(self, query, args)\u001B[0m\n\u001B[1;32m    144\u001B[0m     \u001B[38;5;28;01mpass\u001B[39;00m\n\u001B[1;32m    146\u001B[0m query \u001B[38;5;241m=\u001B[39m \u001B[38;5;28mself\u001B[39m\u001B[38;5;241m.\u001B[39mmogrify(query, args)\n\u001B[0;32m--> 148\u001B[0m result \u001B[38;5;241m=\u001B[39m \u001B[38;5;28;43mself\u001B[39;49m\u001B[38;5;241;43m.\u001B[39;49m\u001B[43m_query\u001B[49m\u001B[43m(\u001B[49m\u001B[43mquery\u001B[49m\u001B[43m)\u001B[49m\n\u001B[1;32m    149\u001B[0m \u001B[38;5;28mself\u001B[39m\u001B[38;5;241m.\u001B[39m_executed \u001B[38;5;241m=\u001B[39m query\n\u001B[1;32m    150\u001B[0m \u001B[38;5;28;01mreturn\u001B[39;00m result\n",
      "File \u001B[0;32m/opt/homebrew/lib/python3.9/site-packages/pymysql/cursors.py:310\u001B[0m, in \u001B[0;36mCursor._query\u001B[0;34m(self, q)\u001B[0m\n\u001B[1;32m    308\u001B[0m \u001B[38;5;28mself\u001B[39m\u001B[38;5;241m.\u001B[39m_last_executed \u001B[38;5;241m=\u001B[39m q\n\u001B[1;32m    309\u001B[0m \u001B[38;5;28mself\u001B[39m\u001B[38;5;241m.\u001B[39m_clear_result()\n\u001B[0;32m--> 310\u001B[0m \u001B[43mconn\u001B[49m\u001B[38;5;241;43m.\u001B[39;49m\u001B[43mquery\u001B[49m\u001B[43m(\u001B[49m\u001B[43mq\u001B[49m\u001B[43m)\u001B[49m\n\u001B[1;32m    311\u001B[0m \u001B[38;5;28mself\u001B[39m\u001B[38;5;241m.\u001B[39m_do_get_result()\n\u001B[1;32m    312\u001B[0m \u001B[38;5;28;01mreturn\u001B[39;00m \u001B[38;5;28mself\u001B[39m\u001B[38;5;241m.\u001B[39mrowcount\n",
      "File \u001B[0;32m/opt/homebrew/lib/python3.9/site-packages/pymysql/connections.py:548\u001B[0m, in \u001B[0;36mConnection.query\u001B[0;34m(self, sql, unbuffered)\u001B[0m\n\u001B[1;32m    546\u001B[0m     sql \u001B[38;5;241m=\u001B[39m sql\u001B[38;5;241m.\u001B[39mencode(\u001B[38;5;28mself\u001B[39m\u001B[38;5;241m.\u001B[39mencoding, \u001B[38;5;124m\"\u001B[39m\u001B[38;5;124msurrogateescape\u001B[39m\u001B[38;5;124m\"\u001B[39m)\n\u001B[1;32m    547\u001B[0m \u001B[38;5;28mself\u001B[39m\u001B[38;5;241m.\u001B[39m_execute_command(COMMAND\u001B[38;5;241m.\u001B[39mCOM_QUERY, sql)\n\u001B[0;32m--> 548\u001B[0m \u001B[38;5;28mself\u001B[39m\u001B[38;5;241m.\u001B[39m_affected_rows \u001B[38;5;241m=\u001B[39m \u001B[38;5;28;43mself\u001B[39;49m\u001B[38;5;241;43m.\u001B[39;49m\u001B[43m_read_query_result\u001B[49m\u001B[43m(\u001B[49m\u001B[43munbuffered\u001B[49m\u001B[38;5;241;43m=\u001B[39;49m\u001B[43munbuffered\u001B[49m\u001B[43m)\u001B[49m\n\u001B[1;32m    549\u001B[0m \u001B[38;5;28;01mreturn\u001B[39;00m \u001B[38;5;28mself\u001B[39m\u001B[38;5;241m.\u001B[39m_affected_rows\n",
      "File \u001B[0;32m/opt/homebrew/lib/python3.9/site-packages/pymysql/connections.py:775\u001B[0m, in \u001B[0;36mConnection._read_query_result\u001B[0;34m(self, unbuffered)\u001B[0m\n\u001B[1;32m    773\u001B[0m \u001B[38;5;28;01melse\u001B[39;00m:\n\u001B[1;32m    774\u001B[0m     result \u001B[38;5;241m=\u001B[39m MySQLResult(\u001B[38;5;28mself\u001B[39m)\n\u001B[0;32m--> 775\u001B[0m     \u001B[43mresult\u001B[49m\u001B[38;5;241;43m.\u001B[39;49m\u001B[43mread\u001B[49m\u001B[43m(\u001B[49m\u001B[43m)\u001B[49m\n\u001B[1;32m    776\u001B[0m \u001B[38;5;28mself\u001B[39m\u001B[38;5;241m.\u001B[39m_result \u001B[38;5;241m=\u001B[39m result\n\u001B[1;32m    777\u001B[0m \u001B[38;5;28;01mif\u001B[39;00m result\u001B[38;5;241m.\u001B[39mserver_status \u001B[38;5;129;01mis\u001B[39;00m \u001B[38;5;129;01mnot\u001B[39;00m \u001B[38;5;28;01mNone\u001B[39;00m:\n",
      "File \u001B[0;32m/opt/homebrew/lib/python3.9/site-packages/pymysql/connections.py:1156\u001B[0m, in \u001B[0;36mMySQLResult.read\u001B[0;34m(self)\u001B[0m\n\u001B[1;32m   1154\u001B[0m \u001B[38;5;28;01mdef\u001B[39;00m \u001B[38;5;21mread\u001B[39m(\u001B[38;5;28mself\u001B[39m):\n\u001B[1;32m   1155\u001B[0m     \u001B[38;5;28;01mtry\u001B[39;00m:\n\u001B[0;32m-> 1156\u001B[0m         first_packet \u001B[38;5;241m=\u001B[39m \u001B[38;5;28;43mself\u001B[39;49m\u001B[38;5;241;43m.\u001B[39;49m\u001B[43mconnection\u001B[49m\u001B[38;5;241;43m.\u001B[39;49m\u001B[43m_read_packet\u001B[49m\u001B[43m(\u001B[49m\u001B[43m)\u001B[49m\n\u001B[1;32m   1158\u001B[0m         \u001B[38;5;28;01mif\u001B[39;00m first_packet\u001B[38;5;241m.\u001B[39mis_ok_packet():\n\u001B[1;32m   1159\u001B[0m             \u001B[38;5;28mself\u001B[39m\u001B[38;5;241m.\u001B[39m_read_ok_packet(first_packet)\n",
      "File \u001B[0;32m/opt/homebrew/lib/python3.9/site-packages/pymysql/connections.py:692\u001B[0m, in \u001B[0;36mConnection._read_packet\u001B[0;34m(self, packet_type)\u001B[0m\n\u001B[1;32m    690\u001B[0m buff \u001B[38;5;241m=\u001B[39m \u001B[38;5;28mbytearray\u001B[39m()\n\u001B[1;32m    691\u001B[0m \u001B[38;5;28;01mwhile\u001B[39;00m \u001B[38;5;28;01mTrue\u001B[39;00m:\n\u001B[0;32m--> 692\u001B[0m     packet_header \u001B[38;5;241m=\u001B[39m \u001B[38;5;28;43mself\u001B[39;49m\u001B[38;5;241;43m.\u001B[39;49m\u001B[43m_read_bytes\u001B[49m\u001B[43m(\u001B[49m\u001B[38;5;241;43m4\u001B[39;49m\u001B[43m)\u001B[49m\n\u001B[1;32m    693\u001B[0m     \u001B[38;5;66;03m# if DEBUG: dump_packet(packet_header)\u001B[39;00m\n\u001B[1;32m    695\u001B[0m     btrl, btrh, packet_number \u001B[38;5;241m=\u001B[39m struct\u001B[38;5;241m.\u001B[39munpack(\u001B[38;5;124m\"\u001B[39m\u001B[38;5;124m<HBB\u001B[39m\u001B[38;5;124m\"\u001B[39m, packet_header)\n",
      "File \u001B[0;32m/opt/homebrew/lib/python3.9/site-packages/pymysql/connections.py:738\u001B[0m, in \u001B[0;36mConnection._read_bytes\u001B[0;34m(self, num_bytes)\u001B[0m\n\u001B[1;32m    736\u001B[0m         \u001B[38;5;28;01mcontinue\u001B[39;00m\n\u001B[1;32m    737\u001B[0m     \u001B[38;5;28mself\u001B[39m\u001B[38;5;241m.\u001B[39m_force_close()\n\u001B[0;32m--> 738\u001B[0m     \u001B[38;5;28;01mraise\u001B[39;00m err\u001B[38;5;241m.\u001B[39mOperationalError(\n\u001B[1;32m    739\u001B[0m         CR\u001B[38;5;241m.\u001B[39mCR_SERVER_LOST,\n\u001B[1;32m    740\u001B[0m         \u001B[38;5;124m\"\u001B[39m\u001B[38;5;124mLost connection to MySQL server during query (\u001B[39m\u001B[38;5;132;01m%s\u001B[39;00m\u001B[38;5;124m)\u001B[39m\u001B[38;5;124m\"\u001B[39m \u001B[38;5;241m%\u001B[39m (e,),\n\u001B[1;32m    741\u001B[0m     )\n\u001B[1;32m    742\u001B[0m \u001B[38;5;28;01mexcept\u001B[39;00m \u001B[38;5;167;01mBaseException\u001B[39;00m:\n\u001B[1;32m    743\u001B[0m     \u001B[38;5;66;03m# Don't convert unknown exception to MySQLError.\u001B[39;00m\n\u001B[1;32m    744\u001B[0m     \u001B[38;5;28mself\u001B[39m\u001B[38;5;241m.\u001B[39m_force_close()\n",
      "\u001B[0;31mOperationalError\u001B[0m: (2013, 'Lost connection to MySQL server during query ([Errno 54] Connection reset by peer)')"
     ]
    }
   ],
   "source": [
    "len(non_trailer_list)\n",
    "sql = f'SELECT * FROM MovieInfo;'\n",
    "cursor.execute(sql)\n",
    "res = cursor.fetchall()\n",
    "changed_df = pd.DataFrame(res)\n",
    "changed_df"
   ],
   "metadata": {
    "collapsed": false,
    "pycharm": {
     "name": "#%%\n"
    }
   }
  },
  {
   "cell_type": "code",
   "execution_count": 172,
   "outputs": [
    {
     "data": {
      "text/plain": "0      {\"Director\": \"토니 토\", \"ProfilImg\": \"https://nuj...\n1      {\"Director\": \"요한 렌크\", \"ProfilImg\": \"https://nu...\n2      {\"Director\": \"로빈 라이트\", \"ProfilImg\": \"https://n...\n3      {\"Director\": \"제니퍼 애니스톤\", \"ProfilImg\": \"https:/...\n4      {\"Director\": \"존 포드\", \"ProfilImg\": \"https://nuj...\n                             ...                        \n690    {\"Director\": \"마에다 마히로\", \"ProfilImg\": \"https://...\n691    {\"Director\": \"조지 A. 로메로\", \"ProfilImg\": \"https:...\n692    {\"Director\": \"파올로 소렌티노\", \"ProfilImg\": \"https:/...\n693                                                 null\n694    {\"Director\": \"제레미 아이언스\", \"ProfilImg\": \"https:/...\nName: Director, Length: 695, dtype: object"
     },
     "execution_count": 172,
     "metadata": {},
     "output_type": "execute_result"
    }
   ],
   "source": [
    "changed_df['Director']"
   ],
   "metadata": {
    "collapsed": false,
    "pycharm": {
     "name": "#%%\n"
    }
   }
  },
  {
   "cell_type": "code",
   "execution_count": 225,
   "outputs": [],
   "source": [
    "str = df['Casts'][0]"
   ],
   "metadata": {
    "collapsed": false,
    "pycharm": {
     "name": "#%%\n"
    }
   }
  },
  {
   "cell_type": "code",
   "execution_count": null,
   "outputs": [],
   "source": [
    "type(df['Casts'][0])"
   ],
   "metadata": {
    "collapsed": false,
    "pycharm": {
     "name": "#%%\n"
    }
   }
  },
  {
   "cell_type": "code",
   "execution_count": 243,
   "outputs": [
    {
     "data": {
      "text/plain": "dict"
     },
     "execution_count": 243,
     "metadata": {},
     "output_type": "execute_result"
    }
   ],
   "source": [
    "type(eval(str)[0])"
   ],
   "metadata": {
    "collapsed": false,
    "pycharm": {
     "name": "#%%\n"
    }
   }
  },
  {
   "cell_type": "code",
   "execution_count": 254,
   "outputs": [
    {
     "ename": "TypeError",
     "evalue": "eval() arg 1 must be a string, bytes or code object",
     "output_type": "error",
     "traceback": [
      "\u001B[0;31m---------------------------------------------------------------------------\u001B[0m",
      "\u001B[0;31mTypeError\u001B[0m                                 Traceback (most recent call last)",
      "Input \u001B[0;32mIn [254]\u001B[0m, in \u001B[0;36m<module>\u001B[0;34m\u001B[0m\n\u001B[0;32m----> 1\u001B[0m t2  \u001B[38;5;241m=\u001B[39m \u001B[38;5;28;43meval\u001B[39;49m\u001B[43m(\u001B[49m\u001B[43mtest_dict\u001B[49m\u001B[43m[\u001B[49m\u001B[38;5;124;43m'\u001B[39;49m\u001B[38;5;124;43mtest\u001B[39;49m\u001B[38;5;124;43m'\u001B[39;49m\u001B[43m]\u001B[49m\u001B[43m[\u001B[49m\u001B[38;5;241;43m0\u001B[39;49m\u001B[43m]\u001B[49m\u001B[43m[\u001B[49m\u001B[38;5;124;43m'\u001B[39;49m\u001B[38;5;124;43mCasts\u001B[39;49m\u001B[38;5;124;43m'\u001B[39;49m\u001B[43m]\u001B[49m\u001B[43m)\u001B[49m \u001B[38;5;66;03m# list\u001B[39;00m\n\u001B[1;32m      2\u001B[0m \u001B[38;5;28mtype\u001B[39m(t2[\u001B[38;5;241m0\u001B[39m])\n\u001B[1;32m      3\u001B[0m t2[\u001B[38;5;241m0\u001B[39m]\n",
      "\u001B[0;31mTypeError\u001B[0m: eval() arg 1 must be a string, bytes or code object"
     ]
    }
   ],
   "source": [
    "t2  = eval(test_dict['test'][0]['Casts']) # list\n",
    "type(t2[0])\n",
    "t2[0]"
   ],
   "metadata": {
    "collapsed": false,
    "pycharm": {
     "name": "#%%\n"
    }
   }
  },
  {
   "cell_type": "code",
   "execution_count": 242,
   "outputs": [
    {
     "data": {
      "text/plain": "dict"
     },
     "execution_count": 242,
     "metadata": {},
     "output_type": "execute_result"
    }
   ],
   "source": [
    "t = [{\"a\": 1},{\"b\": 2},{\"x\": 3}]\n",
    "type(t[0])"
   ],
   "metadata": {
    "collapsed": false,
    "pycharm": {
     "name": "#%%\n"
    }
   }
  },
  {
   "cell_type": "markdown",
   "source": [],
   "metadata": {
    "collapsed": false,
    "pycharm": {
     "name": "#%% md\n"
    }
   }
  },
  {
   "cell_type": "code",
   "execution_count": null,
   "outputs": [],
   "source": [],
   "metadata": {
    "collapsed": false,
    "pycharm": {
     "name": "#%%\n"
    }
   }
  },
  {
   "cell_type": "code",
   "execution_count": 259,
   "outputs": [
    {
     "data": {
      "text/plain": "407"
     },
     "execution_count": 259,
     "metadata": {},
     "output_type": "execute_result"
    }
   ],
   "source": [
    "len(df)"
   ],
   "metadata": {
    "collapsed": false,
    "pycharm": {
     "name": "#%%\n"
    }
   }
  },
  {
   "cell_type": "code",
   "execution_count": 258,
   "outputs": [
    {
     "data": {
      "text/plain": "407"
     },
     "execution_count": 258,
     "metadata": {},
     "output_type": "execute_result"
    }
   ],
   "source": [
    "test = df.to_dict(orient='index')\n",
    "test_dict = {\"test\" : test}\n",
    "test_dict['test'][0]['Casts'] = eval(test_dict['test'][0]['Casts'])\n",
    "test_dict['test'][0]['Casts']\n",
    "type(test_dict['test'][0]['Casts'][0])\n",
    "len(test_dict['test'])"
   ],
   "metadata": {
    "collapsed": false,
    "pycharm": {
     "name": "#%%\n"
    }
   }
  },
  {
   "cell_type": "code",
   "execution_count": 262,
   "outputs": [
    {
     "data": {
      "text/plain": "695"
     },
     "execution_count": 262,
     "metadata": {},
     "output_type": "execute_result"
    }
   ],
   "source": [
    "t3 = db_df.to_dict(orient='index')\n",
    "for c in t3:\n",
    "    c['Casts'] = eval(c['Casts'])\n",
    "    c['Casts'] = eval(c['Casts'])\n",
    "    c['Casts'] = eval(c['Casts'])"
   ],
   "metadata": {
    "collapsed": false,
    "pycharm": {
     "name": "#%%\n"
    }
   }
  },
  {
   "cell_type": "code",
   "execution_count": 261,
   "outputs": [
    {
     "data": {
      "text/plain": "695"
     },
     "execution_count": 261,
     "metadata": {},
     "output_type": "execute_result"
    }
   ],
   "source": [
    "for i in range(len(db_df)):\n",
    "\n",
    "    test = df.to_dict(orient='index')\n",
    "test_dict = {\"test\" : test}\n",
    "test_dict['test'][0]['Casts'] = eval(test_dict['test'][0]['Casts'])\n"
   ],
   "metadata": {
    "collapsed": false,
    "pycharm": {
     "name": "#%%\n"
    }
   }
  }
 ],
 "metadata": {
  "kernelspec": {
   "display_name": "Python 3",
   "language": "python",
   "name": "python3"
  },
  "language_info": {
   "codemirror_mode": {
    "name": "ipython",
    "version": 2
   },
   "file_extension": ".py",
   "mimetype": "text/x-python",
   "name": "python",
   "nbconvert_exporter": "python",
   "pygments_lexer": "ipython2",
   "version": "2.7.6"
  }
 },
 "nbformat": 4,
 "nbformat_minor": 0
}